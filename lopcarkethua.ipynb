{
  "nbformat": 4,
  "nbformat_minor": 0,
  "metadata": {
    "colab": {
      "name": "lopcar",
      "provenance": [],
      "authorship_tag": "ABX9TyN/gn9gw7pDi7DgfGz7tY62",
      "include_colab_link": true
    },
    "kernelspec": {
      "name": "python3",
      "display_name": "Python 3"
    }
  },
  "cells": [
    {
      "cell_type": "markdown",
      "metadata": {
        "id": "view-in-github",
        "colab_type": "text"
      },
      "source": [
        "<a href=\"https://colab.research.google.com/github/nhat41555/laptrinhhuongdoituong/blob/main/lopcarkethua.ipynb\" target=\"_parent\"><img src=\"https://colab.research.google.com/assets/colab-badge.svg\" alt=\"Open In Colab\"/></a>"
      ]
    },
    {
      "cell_type": "code",
      "metadata": {
        "id": "RPamd34vuU2_"
      },
      "source": [
        "class Car:\r\n",
        "  color = 'đen'\r\n",
        "\r\n",
        "  def __init__(self, name, engine):\r\n",
        "    self.name = name\r\n",
        "    self.engine = engine\r\n",
        "  \r\n",
        "  def setColor(self, color):\r\n",
        "    self.color = color\r\n",
        "  \r\n",
        "  def setEngine(self, engine):\r\n",
        "    self.engine = engine\r\n",
        "  \r\n",
        "  def setName(self, name):\r\n",
        "    self.name = name\r\n",
        "  \r\n",
        "  def getEngine(self):\r\n",
        "    return self.engine\r\n",
        "  \r\n",
        "  def toString(self):\r\n",
        "    s = 'Xe {} có màu {} và động cơ {} mã lực'.format(self.name, self.color, self.engine)\r\n",
        "    return(s)"
      ],
      "execution_count": 5,
      "outputs": []
    },
    {
      "cell_type": "code",
      "metadata": {
        "colab": {
          "base_uri": "https://localhost:8080/"
        },
        "id": "RXYW5F3WudY6",
        "outputId": "71e3cddd-7866-4b0a-d88f-5414b97f801c"
      },
      "source": [
        "fadil = Car('messcedes', 5.1)\r\n",
        "print(fadil.toString())"
      ],
      "execution_count": 6,
      "outputs": [
        {
          "output_type": "stream",
          "text": [
            "Xe messcedes có màu đen và động cơ 5.1 mã lực\n"
          ],
          "name": "stdout"
        }
      ]
    },
    {
      "cell_type": "code",
      "metadata": {
        "id": "K8TW6zq-4Q9x"
      },
      "source": [
        "class Truck(Car):\r\n",
        "  def __init__(self, name, engine, Maximumspeed):\r\n",
        "    super().__init__(name,engine)\r\n",
        "    self.Maximumspeed=Maximumspeed\r\n",
        "  \r\n",
        "  def __str__(self):\r\n",
        "    s = 'Xe {} có màu {} ,động cơ {} mã lực, công suất kéo {}'.format(self.name, self.color, self.engine,self.Maximumspeed)\r\n",
        "    return(s)\r\n",
        "  "
      ],
      "execution_count": 10,
      "outputs": []
    },
    {
      "cell_type": "code",
      "metadata": {
        "colab": {
          "base_uri": "https://localhost:8080/"
        },
        "id": "W0QWWZdUHTdQ",
        "outputId": "94cdba53-746b-4a69-c473-5e299db3b841"
      },
      "source": [
        "truck=Truck(\"Audi\",2.3,233)\r\n",
        "print(truck)"
      ],
      "execution_count": 11,
      "outputs": [
        {
          "output_type": "stream",
          "text": [
            "Xe Audi có màu đen ,động cơ 2.3 mã lực, công suất kéo 233\n"
          ],
          "name": "stdout"
        }
      ]
    }
  ]
}