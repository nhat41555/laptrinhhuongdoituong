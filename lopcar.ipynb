{
  "nbformat": 4,
  "nbformat_minor": 0,
  "metadata": {
    "colab": {
      "name": "lopcar",
      "provenance": [],
      "authorship_tag": "ABX9TyOG1x4On9NeTD8fZR7cQG1v",
      "include_colab_link": true
    },
    "kernelspec": {
      "name": "python3",
      "display_name": "Python 3"
    }
  },
  "cells": [
    {
      "cell_type": "markdown",
      "metadata": {
        "id": "view-in-github",
        "colab_type": "text"
      },
      "source": [
        "<a href=\"https://colab.research.google.com/github/nhat41555/laptrinhhuongdoituong/blob/main/lopcar.ipynb\" target=\"_parent\"><img src=\"https://colab.research.google.com/assets/colab-badge.svg\" alt=\"Open In Colab\"/></a>"
      ]
    },
    {
      "cell_type": "code",
      "metadata": {
        "id": "RPamd34vuU2_"
      },
      "source": [
        "class Car:\r\n",
        "  color = 'đen'\r\n",
        "\r\n",
        "  def __init__(self, name, engine):\r\n",
        "    self.name = name\r\n",
        "    self.engine = engine\r\n",
        "  \r\n",
        "  def setColor(self, color):\r\n",
        "    self.color = color\r\n",
        "  \r\n",
        "  def setEngine(self, engine):\r\n",
        "    self.engine = engine\r\n",
        "  \r\n",
        "  def setName(self, name):\r\n",
        "    self.name = name\r\n",
        "  \r\n",
        "  def getEngine(self):\r\n",
        "    return self.engine\r\n",
        "  \r\n",
        "  def toString(self):\r\n",
        "    s = 'Xe {} có màu {} và động cơ {} mã lực'.format(self.name, self.color, self.engine)\r\n",
        "    return(s)"
      ],
      "execution_count": 4,
      "outputs": []
    },
    {
      "cell_type": "code",
      "metadata": {
        "colab": {
          "base_uri": "https://localhost:8080/"
        },
        "id": "RXYW5F3WudY6",
        "outputId": "a5a7099d-a32d-4594-9f5d-ae360ad7c28f"
      },
      "source": [
        "fadil = Car('messcedes', 5.1)\r\n",
        "print(fadil.toString())"
      ],
      "execution_count": 6,
      "outputs": [
        {
          "output_type": "stream",
          "text": [
            "Xe messcedes có màu đen và động cơ 5.1 mã lực\n"
          ],
          "name": "stdout"
        }
      ]
    }
  ]
}